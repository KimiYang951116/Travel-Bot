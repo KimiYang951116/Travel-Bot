{
 "cells": [
  {
   "cell_type": "code",
   "execution_count": 7,
   "metadata": {},
   "outputs": [],
   "source": [
    "import pymysql\n",
    "from functions.sql import *\n",
    "\n",
    "DeleteUserInfo(connection, 'Uc10a26bd60f68b67b4db78d4ee14b8d2') "
   ]
  },
  {
   "cell_type": "code",
   "execution_count": 6,
   "metadata": {},
   "outputs": [],
   "source": [
    "connection = pymysql.connect(\n",
    "    host=\"us-cdbr-east-05.cleardb.net\",\n",
    "    user=\"b5f2e205874506\",\n",
    "    password=\"3291697e\",\n",
    "    db=\"heroku_b2cccf87a825db4\",\n",
    "    charset='utf8mb4',\n",
    "    cursorclass=pymysql.cursors.DictCursor\n",
    ")"
   ]
  },
  {
   "cell_type": "code",
   "execution_count": 33,
   "metadata": {},
   "outputs": [
    {
     "name": "stdout",
     "output_type": "stream",
     "text": [
      "[{'id': 74, 'lineid': 'U1da7745bc9ecc02b2da7afa26d246f73', 'latlong': '24.98549334931359,121.5457503782928', 'service': 1}, {'id': 94, 'lineid': 'Ua967a36f9e18cfafb4fa6ec0e17a7abe', 'latlong': 'None', 'service': 1}, {'id': 104, 'lineid': 'Ueb239b61f47f6242f12088ee24cb22f0', 'latlong': '25.04322977834126,121.52131833136082', 'service': 1}, {'id': 114, 'lineid': 'U3395edb332675afe253e83bd16dd43a8', 'latlong': 'None', 'service': 1}, {'id': 124, 'lineid': 'U5ca9863e90b8b165ab869201664a8c88', 'latlong': 'None', 'service': 1}, {'id': 134, 'lineid': 'U3c393a47449683ba80d68c793d005bcc', 'latlong': 'None', 'service': 0}, {'id': 144, 'lineid': 'Udf33e1655afc03858e09b934ca859e0f', 'latlong': '25.03485432173784,121.56578198075294', 'service': 1}, {'id': 174, 'lineid': 'Uc10a26bd60f68b67b4db78d4ee14b8d2', 'latlong': '25.04913648243988,121.57550901174545', 'service': 1}]\n"
     ]
    }
   ],
   "source": [
    "with connection.cursor() as cursor:\n",
    "    sql = f\"SELECT * FROM userinfo\"\n",
    "    cursor.execute(sql)\n",
    "result = cursor.fetchall()\n",
    "print(result)"
   ]
  }
 ],
 "metadata": {
  "kernelspec": {
   "display_name": "Python 3.9.12 ('base')",
   "language": "python",
   "name": "python3"
  },
  "language_info": {
   "codemirror_mode": {
    "name": "ipython",
    "version": 3
   },
   "file_extension": ".py",
   "mimetype": "text/x-python",
   "name": "python",
   "nbconvert_exporter": "python",
   "pygments_lexer": "ipython3",
   "version": "3.9.12"
  },
  "orig_nbformat": 4,
  "vscode": {
   "interpreter": {
    "hash": "ad2bdc8ecc057115af97d19610ffacc2b4e99fae6737bb82f5d7fb13d2f2c186"
   }
  }
 },
 "nbformat": 4,
 "nbformat_minor": 2
}
